{
  "nbformat": 4,
  "nbformat_minor": 0,
  "metadata": {
    "colab": {
      "name": "DL Assignment.ipynb",
      "private_outputs": true,
      "provenance": [],
      "authorship_tag": "ABX9TyM1SyzZiCo6AXP1i8yuGXDY",
      "include_colab_link": true
    },
    "kernelspec": {
      "name": "python3",
      "display_name": "Python 3"
    },
    "language_info": {
      "name": "python"
    }
  },
  "cells": [
    {
      "cell_type": "markdown",
      "metadata": {
        "id": "view-in-github",
        "colab_type": "text"
      },
      "source": [
        "<a href=\"https://colab.research.google.com/github/Rajesh16702/AGENT/blob/master/DL_Assignment.ipynb\" target=\"_parent\"><img src=\"https://colab.research.google.com/assets/colab-badge.svg\" alt=\"Open In Colab\"/></a>"
      ]
    },
    {
      "cell_type": "markdown",
      "source": [
        "# Deep learning Assignment - 1 set 3"
      ],
      "metadata": {
        "id": "njCz-OFWiYK6"
      }
    },
    {
      "cell_type": "markdown",
      "source": [
        "#To read Kaggle Dataset directly, we need to have kaggle library installed and API keys json uploaded"
      ],
      "metadata": {
        "id": "G8pTvtv8ijJn"
      }
    },
    {
      "cell_type": "code",
      "execution_count": null,
      "metadata": {
        "id": "plUCeFsyguro"
      },
      "outputs": [],
      "source": [
        "!pip install kaggle"
      ]
    },
    {
      "cell_type": "markdown",
      "source": [
        "Click on ‘Choose Files’ to upload the kaggle.json file"
      ],
      "metadata": {
        "id": "mc8SsE_KjGU3"
      }
    },
    {
      "cell_type": "code",
      "source": [
        "from google.colab import files\n",
        "files.upload()"
      ],
      "metadata": {
        "id": "5C5g06HuiRrm"
      },
      "execution_count": null,
      "outputs": []
    },
    {
      "cell_type": "markdown",
      "source": [
        " Move the kaggle.json file into the folder where the API expects to find it"
      ],
      "metadata": {
        "id": "TXT7l9zNjDHj"
      }
    },
    {
      "cell_type": "code",
      "source": [
        "!mkdir -p ~/.kaggle                                               \n",
        "!cp kaggle.json ~/.kaggle/\n",
        "!chmod 600 /root/.kaggle/kaggle.json"
      ],
      "metadata": {
        "id": "vydXAeV9iwnY"
      },
      "execution_count": null,
      "outputs": []
    },
    {
      "cell_type": "markdown",
      "source": [
        "To search for specific datasets, add the -s tag and then the keyword you’re interested in."
      ],
      "metadata": {
        "id": "5Jhb3GHXjMCh"
      }
    },
    {
      "cell_type": "code",
      "source": [
        "!kaggle datasets list -s dogs"
      ],
      "metadata": {
        "id": "qYCfWQgbi4LW"
      },
      "execution_count": null,
      "outputs": []
    },
    {
      "cell_type": "markdown",
      "source": [
        "Copied the \"Copy API command\" from Dataset tab of Kaggle page to access the dataset"
      ],
      "metadata": {
        "id": "Oj3oa8VDjjsT"
      }
    },
    {
      "cell_type": "markdown",
      "source": [
        "kaggle datasets download -d chetankv/dogs-cats-images"
      ],
      "metadata": {
        "id": "EUjAD2EPjRxB"
      }
    }
  ]
}